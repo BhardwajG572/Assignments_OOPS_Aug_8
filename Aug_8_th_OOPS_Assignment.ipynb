{
 "cells": [
  {
   "cell_type": "markdown",
   "id": "51b2b084",
   "metadata": {},
   "source": [
    "# Q .1 \n"
   ]
  },
  {
   "cell_type": "code",
   "execution_count": 46,
   "id": "8c2156c6",
   "metadata": {},
   "outputs": [],
   "source": [
    "# what is abstraction in OOPS ? explain with an example"
   ]
  },
  {
   "cell_type": "markdown",
   "id": "8d00eb45",
   "metadata": {},
   "source": [
    "\n",
    "\n",
    "Abstraction is a fundamental concept in Object-Oriented Programming (OOP) that focuses on hiding the complex implementation details of an object while exposing only the necessary information and functionality\n",
    "\n",
    "In OOPs, abstraction is achieved using classes and interfaces , we generally create class where there is blueprint of object is created . (In simple words, we can say that it blueprint for creating objects)A class which contains one or more abstract methods is called an abstract class.\n",
    "An abstract method is a method that has a declaration but does not have an implementation means no defintion or any logic is iniated while creating it ,just pass it .\n",
    "While we are designing large functional units we use an abstract class.\n",
    "\n",
    "\n",
    "Abstraction ensures that objects are only accessed through well-defined interfaces, reducing the risk of unintended interactions with their internal workings."
   ]
  },
  {
   "cell_type": "code",
   "execution_count": 47,
   "id": "5baf8126",
   "metadata": {},
   "outputs": [],
   "source": [
    "#first we need to import abc module,(abstract base class):\n",
    "    \n",
    "    \n"
   ]
  },
  {
   "cell_type": "code",
   "execution_count": 48,
   "id": "8cfe982c",
   "metadata": {},
   "outputs": [],
   "source": [
    "import abc\n",
    "\n",
    "class Shape: \n",
    "    \n",
    "    @abc.abstractmethod\n",
    "    def area(self):\n",
    "        pass\n",
    "    \n",
    "class circle(Shape):   # Inheriting Shape class to circle class .\n",
    "    def __init__(self,radius):\n",
    "        self.radius =radius\n",
    "        \n",
    "    \n",
    "    def area(self):\n",
    "        area_of_circle =  3.14*self.radius*self.radius\n",
    "        return area_of_circle\n",
    "    \n",
    "    "
   ]
  },
  {
   "cell_type": "code",
   "execution_count": 49,
   "id": "ad07d55d",
   "metadata": {},
   "outputs": [],
   "source": [
    "mycircle =circle(10)"
   ]
  },
  {
   "cell_type": "code",
   "execution_count": 50,
   "id": "fa23ff1a",
   "metadata": {},
   "outputs": [
    {
     "data": {
      "text/plain": [
       "314.0"
      ]
     },
     "execution_count": 50,
     "metadata": {},
     "output_type": "execute_result"
    }
   ],
   "source": [
    "mycircle.area()"
   ]
  },
  {
   "cell_type": "markdown",
   "id": "429a9ea6",
   "metadata": {},
   "source": [
    "# Q.2"
   ]
  },
  {
   "cell_type": "code",
   "execution_count": 51,
   "id": "d79e4444",
   "metadata": {},
   "outputs": [],
   "source": [
    "# Differentiate between Abstraction and Encapsulation. Explain with an example."
   ]
  },
  {
   "cell_type": "markdown",
   "id": "5de045e5",
   "metadata": {},
   "source": [
    "In abstraction , we create blueprint class , where all the methods of an object is there , with an abstract methods (without any logics / definition),\n",
    "and we create sub class , and we just inherit the abstract class , so that we can use that abstract methods.\n",
    "Abstraction is achieved using abstract classes and interfaces, which define the common attributes and methods that concrete classes must implement.\n",
    "we have created all methods in one place that help the coder to maintain and tweak according to their convenience. \n",
    "\n",
    "\n",
    "While In Encapsulation , we just want to hide sensitive information or in our hand what to show users according to our choice. \n",
    "Suppose if we are creating bank class , we don't want user to change balance by just directly accessing it . so we just hide or make it private .\n",
    "In Encapsulation , we have three types of hiding : public , protected , private.\n"
   ]
  },
  {
   "cell_type": "code",
   "execution_count": 52,
   "id": "9978f604",
   "metadata": {},
   "outputs": [],
   "source": [
    "class BankAccount:\n",
    "    def __init__(self, account_number, balance):\n",
    "        self._account_number = account_number # protected view : \" _ \"\n",
    "        self._balance = balance  # here we have use protected view , we don't want user to access directly to account number and balance.\n",
    "     \n",
    "    def deposit(self, amount):\n",
    "        if amount > 0:\n",
    "            self._balance += amount\n",
    "    \n",
    "    def withdraw(self, amount):\n",
    "        if 0 < amount <= self._balance:\n",
    "            self._balance -= amount\n",
    "    \n",
    "    def get_balance(self): # we have given option to user to check their balance from here.\n",
    "        return self._balance"
   ]
  },
  {
   "cell_type": "code",
   "execution_count": 53,
   "id": "5404d204",
   "metadata": {},
   "outputs": [],
   "source": [
    "gaurav = BankAccount(1,500)"
   ]
  },
  {
   "cell_type": "code",
   "execution_count": 54,
   "id": "ea08be7c",
   "metadata": {},
   "outputs": [
    {
     "ename": "AttributeError",
     "evalue": "'BankAccount' object has no attribute 'self_balance'",
     "output_type": "error",
     "traceback": [
      "\u001b[1;31m---------------------------------------------------------------------------\u001b[0m",
      "\u001b[1;31mAttributeError\u001b[0m                            Traceback (most recent call last)",
      "Input \u001b[1;32mIn [54]\u001b[0m, in \u001b[0;36m<cell line: 1>\u001b[1;34m()\u001b[0m\n\u001b[1;32m----> 1\u001b[0m \u001b[43mgaurav\u001b[49m\u001b[38;5;241;43m.\u001b[39;49m\u001b[43mself_balance\u001b[49m\n",
      "\u001b[1;31mAttributeError\u001b[0m: 'BankAccount' object has no attribute 'self_balance'"
     ]
    }
   ],
   "source": [
    "gaurav.self_balance # not accessible , as it is protected "
   ]
  },
  {
   "cell_type": "code",
   "execution_count": 55,
   "id": "05268cac",
   "metadata": {},
   "outputs": [
    {
     "data": {
      "text/plain": [
       "500"
      ]
     },
     "execution_count": 55,
     "metadata": {},
     "output_type": "execute_result"
    }
   ],
   "source": [
    "gaurav.get_balance() # by this function , that developer has given option to check the balance , not given option to change it from here ."
   ]
  },
  {
   "cell_type": "code",
   "execution_count": 56,
   "id": "244c733b",
   "metadata": {},
   "outputs": [],
   "source": [
    "gaurav.deposit(499)"
   ]
  },
  {
   "cell_type": "code",
   "execution_count": 57,
   "id": "c10f6ea6",
   "metadata": {},
   "outputs": [
    {
     "data": {
      "text/plain": [
       "999"
      ]
     },
     "execution_count": 57,
     "metadata": {},
     "output_type": "execute_result"
    }
   ],
   "source": [
    "gaurav.get_balance()"
   ]
  },
  {
   "cell_type": "code",
   "execution_count": 58,
   "id": "ad0b54fe",
   "metadata": {},
   "outputs": [],
   "source": [
    "gaurav.withdraw(1000)"
   ]
  },
  {
   "cell_type": "code",
   "execution_count": 59,
   "id": "9b5993ce",
   "metadata": {},
   "outputs": [],
   "source": [
    "# Abstraction example : same as 1st :"
   ]
  },
  {
   "cell_type": "code",
   "execution_count": 60,
   "id": "d4232c35",
   "metadata": {},
   "outputs": [],
   "source": [
    "import abc\n",
    "\n",
    "class Shape: \n",
    "    \n",
    "    @abc.abstractmethod\n",
    "    def area(self):\n",
    "        pass\n",
    "    \n",
    "class circle(Shape):   # Inheriting Shape class to circle class .\n",
    "    def __init__(self,radius):\n",
    "        self.radius =radius\n",
    "        \n",
    "    \n",
    "    def area(self):\n",
    "        area_of_circle =  3.14*self.radius*self.radius\n",
    "        return area_of_circle"
   ]
  },
  {
   "cell_type": "code",
   "execution_count": 61,
   "id": "ca065adf",
   "metadata": {},
   "outputs": [],
   "source": [
    "circular_ground = circle(3)"
   ]
  },
  {
   "cell_type": "code",
   "execution_count": 62,
   "id": "cc0b780d",
   "metadata": {},
   "outputs": [
    {
     "data": {
      "text/plain": [
       "28.259999999999998"
      ]
     },
     "execution_count": 62,
     "metadata": {},
     "output_type": "execute_result"
    }
   ],
   "source": [
    "circular_ground.area()"
   ]
  },
  {
   "cell_type": "markdown",
   "id": "a7d1555f",
   "metadata": {},
   "source": [
    "# Q .3 "
   ]
  },
  {
   "cell_type": "markdown",
   "id": "29a0b090",
   "metadata": {},
   "source": [
    "What is abc module in python? Why is it used?\n"
   ]
  },
  {
   "cell_type": "markdown",
   "id": "a245e3d5",
   "metadata": {},
   "source": [
    "The abc module in Python stands for \"Abstract Base Classes.\" It provides a way to define abstract base classes, which are classes that are meant to be subclassed but not instantiated directly.\n",
    "\n",
    "Abstract base classes serve as a blueprint for other classes, enforcing a certain structure or interface that their subclasses must follow. \n",
    "\n",
    "This mechanism helps to ensure consistent behavior across different subclasses and promotes a well-organized and maintainable codebase.\n",
    "\n",
    "\n",
    "why is it used ? \n",
    "\n",
    "By defining abstract base classes, we can enforce a common interface or structure for related classes. This ensures that subclasses provide certain methods or attributes, helping to maintain consistency and predictability in our code\n",
    "\n"
   ]
  },
  {
   "cell_type": "markdown",
   "id": "6a058996",
   "metadata": {},
   "source": [
    "# Q.4 "
   ]
  },
  {
   "cell_type": "code",
   "execution_count": 63,
   "id": "46effa70",
   "metadata": {},
   "outputs": [],
   "source": [
    "#How can we achieve data abstraction?"
   ]
  },
  {
   "cell_type": "code",
   "execution_count": 64,
   "id": "72cd7185",
   "metadata": {},
   "outputs": [],
   "source": [
    "# In order to achieve data abstraction : "
   ]
  },
  {
   "cell_type": "markdown",
   "id": "53671e92",
   "metadata": {},
   "source": [
    "\n",
    "first we need to define a class : \n",
    "    Create a class that encapsulates the data and provides methods to interact with it. The class acts as a container for data and behavior, controlling access to the data and maintaining its integrity\n",
    "    \n",
    "    \n",
    "second we can use of private attributes: \n",
    "\n",
    "private attributes (attributes with names starting with an underscore, e.g., _data) to indicate that they are meant to be accessed only within the class methods. This helps prevent direct access to the data from outside the class\n",
    "\n",
    "\n",
    "use of public methods : \n",
    "efine public methods that provide controlled access to the data. These methods act as an interface for interacting with the data, allowing you to enforce data validation, transformations, and any required logic\n",
    "\n",
    "\n",
    "Hide Implementation Details: \n",
    "Implement the data manipulation logic within the class methods. This hides the internal details of how the data is stored or processed, allowing users of the class to work with the data without needing to know its underlying structur\n"
   ]
  },
  {
   "cell_type": "code",
   "execution_count": 65,
   "id": "62715f09",
   "metadata": {},
   "outputs": [],
   "source": [
    "# example : "
   ]
  },
  {
   "cell_type": "code",
   "execution_count": 66,
   "id": "3f9fb6c8",
   "metadata": {},
   "outputs": [],
   "source": [
    "class BankAccount:\n",
    "    def __init__(self, account_number, balance):\n",
    "        self._account_number = account_number\n",
    "        self._balance = balance\n",
    "    \n",
    "    def deposit(self, amount):\n",
    "        if amount > 0:\n",
    "            self._balance += amount\n",
    "    \n",
    "    def withdraw(self, amount):\n",
    "        if 0 < amount <= self._balance:\n",
    "            self._balance -= amount\n",
    "    \n",
    "    def get_balance(self):\n",
    "        return self._balance\n"
   ]
  },
  {
   "cell_type": "code",
   "execution_count": 67,
   "id": "13383f2b",
   "metadata": {},
   "outputs": [],
   "source": [
    "account = BankAccount(\"12345\", 1000)"
   ]
  },
  {
   "cell_type": "code",
   "execution_count": 68,
   "id": "8d223692",
   "metadata": {},
   "outputs": [
    {
     "name": "stdout",
     "output_type": "stream",
     "text": [
      "Initial Balance: 1000\n"
     ]
    }
   ],
   "source": [
    "# Accessing and manipulating data through methods\n",
    "print(f\"Initial Balance: {account.get_balance()}\")"
   ]
  },
  {
   "cell_type": "code",
   "execution_count": 69,
   "id": "ebef8ef7",
   "metadata": {},
   "outputs": [
    {
     "name": "stdout",
     "output_type": "stream",
     "text": [
      "Balance after Deposit: 1500\n"
     ]
    }
   ],
   "source": [
    "account.deposit(500)\n",
    "print(f\"Balance after Deposit: {account.get_balance()}\")"
   ]
  },
  {
   "cell_type": "code",
   "execution_count": 70,
   "id": "65e2a908",
   "metadata": {},
   "outputs": [
    {
     "name": "stdout",
     "output_type": "stream",
     "text": [
      "Balance after Withdrawal: 1200\n"
     ]
    }
   ],
   "source": [
    "account.withdraw(300)\n",
    "print(f\"Balance after Withdrawal: {account.get_balance()}\")"
   ]
  },
  {
   "cell_type": "markdown",
   "id": "bbebb333",
   "metadata": {},
   "source": [
    "# Q.5"
   ]
  },
  {
   "cell_type": "markdown",
   "id": "d4ae2855",
   "metadata": {},
   "source": [
    "Can we create an instance of an abstract class? Explain your answer."
   ]
  },
  {
   "cell_type": "markdown",
   "id": "8c73aab3",
   "metadata": {},
   "source": [
    "No, we cannot create an instance of an abstract class in python and most other programming language.\n",
    "Abstract clases are meant obe subclasses and serve as a blueprint for other class to inherit from.\n",
    "It contain abstract methods that need to be implemeneted by thier subclasses.\n",
    "\n",
    "An abstract class is designed to be incomplete on its own, \n",
    "as it contains one or more abstract methods that lack implementation details. These abstract methods act as placeholders \n",
    "for behavior that must be provided by the subclasses\n",
    "\n",
    "In Python, if you attempt to create an instance of an abstract class\n",
    "that contains abstract methods using the abc module,\n",
    "you'll encounter a TypeError indicating that \n",
    "the abstract class cannot be instantiated directly. \n",
    "\n"
   ]
  },
  {
   "cell_type": "code",
   "execution_count": 71,
   "id": "b72f370a",
   "metadata": {},
   "outputs": [
    {
     "ename": "TypeError",
     "evalue": "Can't instantiate abstract class AbstractClass with abstract method abstract_method",
     "output_type": "error",
     "traceback": [
      "\u001b[1;31m---------------------------------------------------------------------------\u001b[0m",
      "\u001b[1;31mTypeError\u001b[0m                                 Traceback (most recent call last)",
      "Input \u001b[1;32mIn [71]\u001b[0m, in \u001b[0;36m<cell line: 9>\u001b[1;34m()\u001b[0m\n\u001b[0;32m      6\u001b[0m         \u001b[38;5;28;01mpass\u001b[39;00m\n\u001b[0;32m      8\u001b[0m \u001b[38;5;66;03m# This will raise a TypeError since AbstractClass is an abstract class.\u001b[39;00m\n\u001b[1;32m----> 9\u001b[0m instance \u001b[38;5;241m=\u001b[39m \u001b[43mAbstractClass\u001b[49m\u001b[43m(\u001b[49m\u001b[43m)\u001b[49m\n",
      "\u001b[1;31mTypeError\u001b[0m: Can't instantiate abstract class AbstractClass with abstract method abstract_method"
     ]
    }
   ],
   "source": [
    "from abc import ABC, abstractmethod\n",
    "\n",
    "class AbstractClass(ABC):\n",
    "    @abstractmethod\n",
    "    def abstract_method(self):\n",
    "        pass\n",
    "\n",
    "# This will raise a TypeError since AbstractClass is an abstract class.\n",
    "instance = AbstractClass()"
   ]
  },
  {
   "cell_type": "code",
   "execution_count": null,
   "id": "adc9904e",
   "metadata": {},
   "outputs": [],
   "source": []
  },
  {
   "cell_type": "code",
   "execution_count": null,
   "id": "430a5899",
   "metadata": {},
   "outputs": [],
   "source": []
  }
 ],
 "metadata": {
  "kernelspec": {
   "display_name": "Python 3 (ipykernel)",
   "language": "python",
   "name": "python3"
  },
  "language_info": {
   "codemirror_mode": {
    "name": "ipython",
    "version": 3
   },
   "file_extension": ".py",
   "mimetype": "text/x-python",
   "name": "python",
   "nbconvert_exporter": "python",
   "pygments_lexer": "ipython3",
   "version": "3.9.12"
  }
 },
 "nbformat": 4,
 "nbformat_minor": 5
}
